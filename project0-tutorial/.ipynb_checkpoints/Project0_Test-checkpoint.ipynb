{
 "cells": [
  {
   "cell_type": "code",
   "execution_count": 3,
   "id": "a95a0c3a-202d-4dad-85c5-b87abc13d2a9",
   "metadata": {},
   "outputs": [],
   "source": [
    "order = [('apples', 2.0), ('pears', 3.0), ('limes', 4.0)]"
   ]
  },
  {
   "cell_type": "code",
   "execution_count": 4,
   "id": "8f887163-13d9-4f71-b923-cb4a148e73b0",
   "metadata": {},
   "outputs": [
    {
     "name": "stdout",
     "output_type": "stream",
     "text": [
      "apples 2.0\n",
      "pears 3.0\n",
      "limes 4.0\n"
     ]
    }
   ],
   "source": [
    "for i,j in order:\n",
    "    print(i,j)"
   ]
  },
  {
   "cell_type": "code",
   "execution_count": null,
   "id": "28994c91-cc27-4b2a-abfe-c69995bbd20a",
   "metadata": {},
   "outputs": [],
   "source": []
  }
 ],
 "metadata": {
  "kernelspec": {
   "display_name": "Python 3 (ipykernel)",
   "language": "python",
   "name": "python3"
  },
  "language_info": {
   "codemirror_mode": {
    "name": "ipython",
    "version": 3
   },
   "file_extension": ".py",
   "mimetype": "text/x-python",
   "name": "python",
   "nbconvert_exporter": "python",
   "pygments_lexer": "ipython3",
   "version": "3.9.13"
  }
 },
 "nbformat": 4,
 "nbformat_minor": 5
}
